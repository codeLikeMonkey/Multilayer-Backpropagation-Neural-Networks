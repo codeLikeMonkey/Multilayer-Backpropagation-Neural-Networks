{
 "cells": [
  {
   "cell_type": "code",
   "execution_count": 1,
   "metadata": {},
   "outputs": [],
   "source": [
    "from neural_network import *\n",
    "from data_prep import *\n",
    "import matplotlib.pyplot as plt\n",
    "\n",
    "\n",
    "\n",
    "\n",
    "if __name__ == \"__main__\":\n",
    "\n",
    "    net = Network(\n",
    "        layers = [784,2,10],\n",
    "        max_epoch = 30,\n",
    "        eta = 0.001,\n",
    "        func = 'sigmoid',\n",
    "        is_sqrt_initialize = True,\n",
    "        is_shuffle = True,\n",
    "        momentum_type = \"momentum\"\n",
    "    )\n",
    "    training_images,training_labels,test_images,test_labels = data_prep()"
   ]
  },
  {
   "cell_type": "code",
   "execution_count": 4,
   "metadata": {},
   "outputs": [
    {
     "data": {
      "text/plain": [
       "array([[ 0.10793296],\n",
       "       [ 0.00817201],\n",
       "       [ 0.32734305],\n",
       "       [ 0.04404194],\n",
       "       [ 0.01069562],\n",
       "       [ 0.05850131],\n",
       "       [ 0.02871545],\n",
       "       [ 0.33146762],\n",
       "       [ 0.05792156],\n",
       "       [ 0.02520846]])"
      ]
     },
     "execution_count": 4,
     "metadata": {},
     "output_type": "execute_result"
    }
   ],
   "source": [
    "net.test(training_images[:,0:1])"
   ]
  }
 ],
 "metadata": {
  "kernelspec": {
   "display_name": "Python 3",
   "language": "python",
   "name": "python3"
  },
  "language_info": {
   "codemirror_mode": {
    "name": "ipython",
    "version": 3
   },
   "file_extension": ".py",
   "mimetype": "text/x-python",
   "name": "python",
   "nbconvert_exporter": "python",
   "pygments_lexer": "ipython3",
   "version": "3.6.1"
  }
 },
 "nbformat": 4,
 "nbformat_minor": 2
}
