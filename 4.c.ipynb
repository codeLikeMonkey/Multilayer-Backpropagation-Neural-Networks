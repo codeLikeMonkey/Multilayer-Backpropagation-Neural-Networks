{
 "cells": [
  {
   "cell_type": "code",
   "execution_count": null,
   "metadata": {},
   "outputs": [],
   "source": [
    "from neural_network import *\n",
    "from data_prep import *\n",
    "import matplotlib.pyplot as plt\n",
    "\n",
    "\n",
    "\n",
    "if __name__ == \"__main__\":\n",
    "\n",
    "    net = Network(\n",
    "        layers = [784,64,10],\n",
    "        max_epoch = 15,\n",
    "        eta = 0.01,\n",
    "        func = 'sigmoid',\n",
    "        is_sqrt_initialize = True,\n",
    "        is_shuffle = True,\n",
    "        momentum_type = None\n",
    "    )\n",
    "    training_images,training_labels,test_images,test_labels = data_prep()\n",
    "    net.fit(training_images,training_labels,test_images,test_labels)"
   ]
  },
  {
   "cell_type": "code",
   "execution_count": null,
   "metadata": {},
   "outputs": [],
   "source": []
  }
 ],
 "metadata": {
  "kernelspec": {
   "display_name": "Python 3",
   "language": "python",
   "name": "python3"
  },
  "language_info": {
   "codemirror_mode": {
    "name": "ipython",
    "version": 3
   },
   "file_extension": ".py",
   "mimetype": "text/x-python",
   "name": "python",
   "nbconvert_exporter": "python",
   "pygments_lexer": "ipython3",
   "version": "3.6.1"
  }
 },
 "nbformat": 4,
 "nbformat_minor": 2
}
